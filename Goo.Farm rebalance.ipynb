{
 "cells": [
  {
   "cell_type": "code",
   "execution_count": 20,
   "id": "29fb57e8",
   "metadata": {},
   "outputs": [
    {
     "name": "stdout",
     "output_type": "stream",
     "text": [
      "  Mult    Goo Amount    Goo rate\n",
      "------  ------------  ----------\n",
      "     6       46.1538     16.641\n",
      "     7       53.8462     19.4145\n",
      "    13      100          36.0555 \n",
      "\n",
      "  Mult    Goo Amount    Goo rate\n",
      "------  ------------  ----------\n",
      "     6       31.5789     13.7649\n",
      "     6       31.5789     13.7649\n",
      "     7       36.8421     16.0591\n",
      "    19      100          43.589 \n",
      "\n"
     ]
    }
   ],
   "source": [
    "import math\n",
    "from tabulate import tabulate\n",
    "\n",
    "def distribute(_gobblers, _total_goo):\n",
    "    total_mult = sum([x[\"mult\"] for x in _gobblers])\n",
    "    \n",
    "    for gobbler in _gobblers:\n",
    "        goo_amount = _total_goo * (gobbler[\"mult\"] / total_mult)\n",
    "        gobbler[\"goo_amount\"] = goo_amount\n",
    "\n",
    "        goo_rate = math.sqrt(gobbler[\"mult\"] * goo_amount)\n",
    "        gobbler[\"goo_rate\"] = goo_rate\n",
    "    return _gobblers\n",
    "\n",
    "def debug(gobblers):\n",
    "    rows = [[x[\"mult\"], x[\"goo_amount\"], x[\"goo_rate\"]] for x in gobblers]\n",
    "    rows.append([\n",
    "        sum([x[\"mult\"] for x in gobblers]), \n",
    "        sum([x[\"goo_amount\"] for x in gobblers]), \n",
    "        sum([x[\"goo_rate\"] for x in gobblers])])\n",
    "    print(tabulate(rows, headers=[\"Mult\", \"Goo Amount\", \"Goo rate\"]), \"\\n\")\n",
    "\n",
    "debug(distribute([{\"mult\": 6},{\"mult\": 7}], 100))\n",
    "debug(distribute([{\"mult\": 6},{\"mult\": 6},{\"mult\": 7}], 100))"
   ]
  },
  {
   "cell_type": "code",
   "execution_count": 28,
   "id": "a2562a3f",
   "metadata": {},
   "outputs": [],
   "source": [
    "from itertools import groupby\n",
    "\n",
    "def group(gobblers):\n",
    "    groups = {}\n",
    "    for k, g in groupby(gobblers, lambda x: x[\"mult\"]):\n",
    "        items = list(g)\n",
    "        groups[k] = {\n",
    "           \"total_goo\": sum([x[\"goo_amount\"] for x in items]),\n",
    "           \"total_mult\": sum([x[\"mult\"] for x in items]),\n",
    "           \"items\": items}\n",
    "    return groups\n",
    "\n",
    "gobblers = distribute([{\"mult\": 6},{\"mult\": 7}], 100)\n",
    "grouped = group(gobblers)\n",
    "\n",
    "# add gobbler with mult 6\n",
    "gobblers.append({\"mult\": 6, \"goo_amount\": 0, \"goo_rate\": 0})\n",
    "grouped = group(gobblers)"
   ]
  },
  {
   "cell_type": "code",
   "execution_count": null,
   "id": "532c4ce3",
   "metadata": {},
   "outputs": [],
   "source": []
  }
 ],
 "metadata": {
  "kernelspec": {
   "display_name": "Python 3 (ipykernel)",
   "language": "python",
   "name": "python3"
  },
  "language_info": {
   "codemirror_mode": {
    "name": "ipython",
    "version": 3
   },
   "file_extension": ".py",
   "mimetype": "text/x-python",
   "name": "python",
   "nbconvert_exporter": "python",
   "pygments_lexer": "ipython3",
   "version": "3.9.8"
  }
 },
 "nbformat": 4,
 "nbformat_minor": 5
}
