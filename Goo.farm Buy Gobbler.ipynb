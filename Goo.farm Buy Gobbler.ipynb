{
 "cells": [
  {
   "cell_type": "code",
   "execution_count": 10,
   "id": "f75d9cf6",
   "metadata": {},
   "outputs": [],
   "source": [
    "import math\n",
    "\n",
    "emissionMultiple = 6\n",
    "lastBalanceWad = 1e18\n",
    "timeElapsedWad = 1e18\n",
    "\n",
    "timeElapsedSquaredWad = timeElapsedWad * timeElapsedWad / 1e18\n",
    "\n",
    "value0 = ((emissionMultiple * timeElapsedSquaredWad) / 4) + (timeElapsedWad * math.sqrt(emissionMultiple * lastBalanceWad * 1e18) / 1e18)"
   ]
  },
  {
   "cell_type": "code",
   "execution_count": 17,
   "id": "2aff289b",
   "metadata": {},
   "outputs": [
    {
     "data": {
      "text/plain": [
       "2.449489742783178e+18"
      ]
     },
     "execution_count": 17,
     "metadata": {},
     "output_type": "execute_result"
    }
   ],
   "source": [
    "timeElapsedWad * math.sqrt(emissionMultiple * lastBalanceWad * 1e18) / 1e18"
   ]
  },
  {
   "cell_type": "code",
   "execution_count": 16,
   "id": "0af23518",
   "metadata": {},
   "outputs": [
    {
     "data": {
      "text/plain": [
       "2.449489742783178e+18"
      ]
     },
     "execution_count": 16,
     "metadata": {},
     "output_type": "execute_result"
    }
   ],
   "source": [
    "(value0 - ((emissionMultiple * timeElapsedSquaredWad) / 4))"
   ]
  },
  {
   "cell_type": "code",
   "execution_count": 18,
   "id": "9db2ec5c",
   "metadata": {},
   "outputs": [
    {
     "data": {
      "text/plain": [
       "2.4494897427831782e+36"
      ]
     },
     "execution_count": 18,
     "metadata": {},
     "output_type": "execute_result"
    }
   ],
   "source": [
    "timeElapsedWad * math.sqrt(emissionMultiple * lastBalanceWad * 1e18)"
   ]
  },
  {
   "cell_type": "code",
   "execution_count": 19,
   "id": "a111ebbb",
   "metadata": {},
   "outputs": [
    {
     "data": {
      "text/plain": [
       "2.4494897427831782e+36"
      ]
     },
     "execution_count": 19,
     "metadata": {},
     "output_type": "execute_result"
    }
   ],
   "source": [
    "(value0 - ((emissionMultiple * timeElapsedSquaredWad) / 4)) * 1e18"
   ]
  },
  {
   "cell_type": "code",
   "execution_count": 20,
   "id": "ad7361de",
   "metadata": {},
   "outputs": [
    {
     "data": {
      "text/plain": [
       "2.449489742783178e+18"
      ]
     },
     "execution_count": 20,
     "metadata": {},
     "output_type": "execute_result"
    }
   ],
   "source": [
    "math.sqrt(emissionMultiple * lastBalanceWad * 1e18)"
   ]
  },
  {
   "cell_type": "code",
   "execution_count": 21,
   "id": "158a1204",
   "metadata": {},
   "outputs": [
    {
     "data": {
      "text/plain": [
       "2.449489742783178e+18"
      ]
     },
     "execution_count": 21,
     "metadata": {},
     "output_type": "execute_result"
    }
   ],
   "source": [
    "(value0 - ((emissionMultiple * timeElapsedSquaredWad) / 4)) * 1e18 / timeElapsedWad"
   ]
  },
  {
   "cell_type": "code",
   "execution_count": 22,
   "id": "a62f15aa",
   "metadata": {},
   "outputs": [
    {
     "data": {
      "text/plain": [
       "6e+36"
      ]
     },
     "execution_count": 22,
     "metadata": {},
     "output_type": "execute_result"
    }
   ],
   "source": [
    "emissionMultiple * lastBalanceWad * 1e18"
   ]
  },
  {
   "cell_type": "code",
   "execution_count": 23,
   "id": "a5cf7b7a",
   "metadata": {},
   "outputs": [
    {
     "data": {
      "text/plain": [
       "6.000000000000001e+36"
      ]
     },
     "execution_count": 23,
     "metadata": {},
     "output_type": "execute_result"
    }
   ],
   "source": [
    "((value0 - ((emissionMultiple * timeElapsedSquaredWad) / 4)) * 1e18 / timeElapsedWad) ** 2"
   ]
  },
  {
   "cell_type": "code",
   "execution_count": 24,
   "id": "cd8a6f45",
   "metadata": {},
   "outputs": [
    {
     "data": {
      "text/plain": [
       "1e+18"
      ]
     },
     "execution_count": 24,
     "metadata": {},
     "output_type": "execute_result"
    }
   ],
   "source": [
    "lastBalanceWad"
   ]
  },
  {
   "cell_type": "code",
   "execution_count": 25,
   "id": "88a5987a",
   "metadata": {},
   "outputs": [
    {
     "data": {
      "text/plain": [
       "1.0000000000000001e+18"
      ]
     },
     "execution_count": 25,
     "metadata": {},
     "output_type": "execute_result"
    }
   ],
   "source": [
    "(((value0 - ((emissionMultiple * timeElapsedSquaredWad) / 4)) * 1e18 / timeElapsedWad) ** 2) / (emissionMultiple * 1e18)"
   ]
  }
 ],
 "metadata": {
  "kernelspec": {
   "display_name": "Python 3 (ipykernel)",
   "language": "python",
   "name": "python3"
  },
  "language_info": {
   "codemirror_mode": {
    "name": "ipython",
    "version": 3
   },
   "file_extension": ".py",
   "mimetype": "text/x-python",
   "name": "python",
   "nbconvert_exporter": "python",
   "pygments_lexer": "ipython3",
   "version": "3.9.8"
  }
 },
 "nbformat": 4,
 "nbformat_minor": 5
}
