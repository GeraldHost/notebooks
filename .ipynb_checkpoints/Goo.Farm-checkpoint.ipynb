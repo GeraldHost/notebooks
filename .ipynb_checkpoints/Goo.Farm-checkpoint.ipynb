{
 "cells": [
  {
   "cell_type": "code",
   "execution_count": 15,
   "id": "f855ee2d",
   "metadata": {},
   "outputs": [
    {
     "name": "stdout",
     "output_type": "stream",
     "text": [
      "  Mult    Goo Amount    Goo rate\n",
      "------  ------------  ----------\n",
      "     6       200         34.641\n",
      "     7       233.333     40.4145\n",
      "     8       266.667     46.188\n",
      "     9       300         51.9615\n",
      "\n",
      "Total Mult: 30\n",
      "Total Rate: 173.20508075688775\n",
      "Total GOO: 1000\n",
      "\n",
      "\n",
      "  Mult    Goo Amount    Goo rate\n",
      "------  ------------  ----------\n",
      "     6       166.667     31.6228\n",
      "     7       194.444     36.8932\n",
      "     8       222.222     42.1637\n",
      "     9       250         47.4342\n",
      "     6       166.667     31.6228\n",
      "\n",
      "Total Mult: 36\n",
      "Total Rate: 189.73665961010275\n",
      "Total GOO: 1000\n",
      "\n",
      "\n",
      "Rate delta: 16.531578853214995 \n",
      "\n",
      "\n",
      "  Mult    Goo Amount    Goo rate\n",
      "------  ------------  ----------\n",
      "     6           150          30\n",
      "     7           175          35\n",
      "     8           200          40\n",
      "     9           225          45\n",
      "     6           150          30\n",
      "\n",
      "Total Mult: 36\n",
      "Total Rate: 180.0\n",
      "Total GOO: 1000\n",
      "\n",
      "\n",
      "Rate delta: 6.794919243112247 \n",
      "\n",
      "\n"
     ]
    },
    {
     "data": {
      "text/plain": [
       "False"
      ]
     },
     "execution_count": 15,
     "metadata": {},
     "output_type": "execute_result"
    }
   ],
   "source": [
    "import math\n",
    "from tabulate import tabulate\n",
    "\n",
    "\"\"\"\n",
    "Question: If we have a bunch of gobblers earning GOO. When \n",
    "is the right time to take some GOO and pay for an extra gobbler?\n",
    "\n",
    "Withdrawing GOO to get an extra Gobbler will reduce the GOO rate\n",
    "short term but is better for the rate long term.\n",
    "\"\"\"\n",
    "\n",
    "total_goo = 1000\n",
    "gobblers = [{\"mult\": 6},{\"mult\": 7},{\"mult\": 8},{\"mult\": 9}]\n",
    "\n",
    "def distribute(_gobblers, _total_goo):\n",
    "    total_mult = sum([x[\"mult\"] for x in _gobblers])\n",
    "    \n",
    "    for gobbler in _gobblers:\n",
    "        goo_amount = _total_goo * (gobbler[\"mult\"] / total_mult)\n",
    "        gobbler[\"goo_amount\"] = goo_amount\n",
    "\n",
    "        goo_rate = math.sqrt(gobbler[\"mult\"] * goo_amount)\n",
    "        gobbler[\"goo_rate\"] = goo_rate\n",
    "    return _gobblers\n",
    "\n",
    "def analyze(_total_goo, _gobblers):\n",
    "    _gobblers = distribute(_gobblers, _total_goo)\n",
    "\n",
    "    assert _total_goo == round(sum([x[\"goo_amount\"] for x in _gobblers]))\n",
    "    \n",
    "    total_mult = sum([x[\"mult\"] for x in _gobblers])\n",
    "    total_rate = sum([x[\"goo_rate\"] for x in _gobblers])\n",
    "\n",
    "    print(tabulate([[x[\"mult\"], x[\"goo_amount\"], x[\"goo_rate\"]] for x in _gobblers], headers=[\"Mult\", \"Goo Amount\", \"Goo rate\"]))\n",
    "    print(\"\")\n",
    "    print(\"Total Mult:\", total_mult)\n",
    "    print(\"Total Rate:\", total_rate)\n",
    "    print(\"Total GOO:\", total_goo)\n",
    "    print(\"\")\n",
    "    print(\"\")\n",
    "    \n",
    "    return total_rate\n",
    "    \n",
    "rate_a = analyze(total_goo, gobblers)\n",
    "\n",
    "\"\"\"\n",
    "What does adding another gobbler to the current distro do to the rate?\n",
    "\"\"\"\n",
    "gobblers.append({\"mult\":6})\n",
    "\n",
    "rate_b = analyze(total_goo, gobblers)\n",
    "\n",
    "print(\"Rate delta:\", rate_b - rate_a, \"\\n\\n\")\n",
    "\n",
    "\"\"\"\n",
    "What if we paid for the deposit so reduced GOO by 10%\n",
    "\"\"\"\n",
    "\n",
    "rate_c = analyze(total_goo - 100, gobblers)\n",
    "\n",
    "print(\"Rate delta:\", rate_c - rate_a, \"\\n\\n\")\n",
    "\n",
    "\"\"\"\n",
    "The rate drops... I guess we need to know what the schedule is for GOO\n",
    "Then we can figure out how long it will take us to earn back that GOO we used\n",
    "at the new rate to know if we have overpaid.\n",
    "\n",
    "Then at any point we should be able to say that x amount of GOO is up for grabs\n",
    "to incetivise a deposit...\n",
    "\n",
    "Somebody with a big math brain would be able to solve this.\n",
    "\"\"\"\n",
    "\n",
    "False"
   ]
  },
  {
   "cell_type": "code",
   "execution_count": 55,
   "id": "36ac92fb",
   "metadata": {},
   "outputs": [
    {
     "name": "stdout",
     "output_type": "stream",
     "text": [
      "balance: 11454609.584126493\n"
     ]
    },
    {
     "data": {
      "text/plain": [
       "[<matplotlib.lines.Line2D at 0x115b86790>]"
      ]
     },
     "execution_count": 55,
     "metadata": {},
     "output_type": "execute_result"
    },
    {
     "data": {
      "image/png": "[encoded data removed]",
      "text/plain": [
       "<Figure size 432x288 with 1 Axes>"
      ]
     },
     "metadata": {
      "needs_background": "light"
     },
     "output_type": "display_data"
    }
   ],
   "source": [
    "import matplotlib.pyplot as plt\n",
    "\n",
    "\"\"\"\n",
    "GOO rate is $GOO per day\n",
    "\"\"\"\n",
    "\n",
    "n_epoch = 100 # 100 days\n",
    "balance = 1\n",
    "\n",
    "# Start with 1 gobbler\n",
    "gobblers = [{\"mult\":6}]\n",
    "\n",
    "history = []\n",
    "\n",
    "for i in range(n_epoch):\n",
    "    if i % 10:\n",
    "        balance = balance * 0.95\n",
    "        gobblers.append({\"mult\":6})\n",
    "        \n",
    "    _gobblers = distribute(gobblers, balance)\n",
    "    \n",
    "    total_rate = sum([x[\"goo_rate\"] for x in _gobblers])\n",
    "    total_goo = sum([x[\"goo_amount\"] for x in _gobblers])\n",
    "    \n",
    "    issued = math.sqrt(total_rate * total_goo)\n",
    "    balance = balance + issued\n",
    "    \n",
    "    history.append(balance)\n",
    "    \n",
    "print(\"balance:\", balance)\n",
    "# 2,097,415 <- not buying any more gobblers\n",
    "# 11,454,609 <- buying gobbler every 10 epochs with 5% balance\n",
    "\n",
    "plt.plot(range(len(history)), history, color=\"red\")"
   ]
  },
  {
   "cell_type": "code",
   "execution_count": null,
   "id": "18bb1170",
   "metadata": {},
   "outputs": [],
   "source": []
  }
 ],
 "metadata": {
  "kernelspec": {
   "display_name": "Python 3 (ipykernel)",
   "language": "python",
   "name": "python3"
  },
  "language_info": {
   "codemirror_mode": {
    "name": "ipython",
    "version": 3
   },
   "file_extension": ".py",
   "mimetype": "text/x-python",
   "name": "python",
   "nbconvert_exporter": "python",
   "pygments_lexer": "ipython3",
   "version": "3.9.8"
  }
 },
 "nbformat": 4,
 "nbformat_minor": 5
}
