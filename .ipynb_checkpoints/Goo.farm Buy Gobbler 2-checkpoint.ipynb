{
 "cells": [
  {
   "cell_type": "code",
   "execution_count": 1,
   "id": "f75d9cf6",
   "metadata": {},
   "outputs": [],
   "source": [
    "import math\n",
    "\n",
    "emissionMultiple = 6\n",
    "lastBalanceWad = 1e18\n",
    "timeElapsedWad = 1e18\n",
    "\n",
    "timeElapsedSquaredWad = timeElapsedWad * timeElapsedWad / 1e18\n",
    "\n",
    "value0 = ((emissionMultiple * timeElapsedSquaredWad) / 4) + (timeElapsedWad * math.sqrt(emissionMultiple * lastBalanceWad * 1e18) / 1e18)"
   ]
  },
  {
   "cell_type": "code",
   "execution_count": null,
   "id": "20ea5363",
   "metadata": {},
   "outputs": [],
   "source": []
  }
 ],
 "metadata": {
  "kernelspec": {
   "display_name": "Python 3 (ipykernel)",
   "language": "python",
   "name": "python3"
  },
  "language_info": {
   "codemirror_mode": {
    "name": "ipython",
    "version": 3
   },
   "file_extension": ".py",
   "mimetype": "text/x-python",
   "name": "python",
   "nbconvert_exporter": "python",
   "pygments_lexer": "ipython3",
   "version": "3.9.8"
  }
 },
 "nbformat": 4,
 "nbformat_minor": 5
}
