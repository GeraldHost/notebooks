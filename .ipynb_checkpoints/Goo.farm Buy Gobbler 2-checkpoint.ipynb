{
 "cells": [
  {
   "cell_type": "code",
   "execution_count": 88,
   "id": "f75d9cf6",
   "metadata": {},
   "outputs": [
    {
     "name": "stdout",
     "output_type": "stream",
     "text": [
      "Issuance Before\n",
      "4.9495\n",
      "Simple Issuance\n",
      "3.4495\n",
      "Balance from simple Issuance\n",
      "0.4958\n",
      "Issuance After\n",
      "5.9349\n"
     ]
    }
   ],
   "source": [
    "import math\n",
    "\n",
    "emissionMultiple = 6\n",
    "lastBalanceWad = 1e18\n",
    "timeElapsedWad = 1e18\n",
    "\n",
    "def getIssuance(emissionMultiple, lastBalanceWad, timeElapsedWad):\n",
    "    timeElapsedSquaredWad = timeElapsedWad * timeElapsedWad / 1e18    \n",
    "    return (lastBalanceWad + \n",
    "        ((emissionMultiple * timeElapsedSquaredWad) / 4) + \n",
    "        (timeElapsedWad * math.sqrt(emissionMultiple * lastBalanceWad * 1e18) / 1e18))\n",
    "\n",
    "def getSimpleIssuance(emissionMultiple, lastBalanceWad):\n",
    "    return lastBalanceWad + math.sqrt(emissionMultiple * lastBalanceWad * 1e18)\n",
    "\n",
    "def getBalanceFromSimpleIssuance(issuance, emissionMultiple):\n",
    "    return ((issuance ** 2) / (emissionMultiple * 1e18)) / 2\n",
    "\n",
    "print(\"Issuance Before\")\n",
    "print(\"{0:.4f}\".format(getIssuance(emissionMultiple, lastBalanceWad, timeElapsedWad) / 1e18))\n",
    "\n",
    "print(\"Simple Issuance\")\n",
    "simpleIssuance = getSimpleIssuance(emissionMultiple, lastBalanceWad)\n",
    "print(\"{0:.4f}\".format(simpleIssuance / 1e18))\n",
    "\n",
    "print(\"Balance from simple Issuance\")\n",
    "emissionMultiple = 12\n",
    "balanceFromSimpleIssuance = getBalanceFromSimpleIssuance(simpleIssuance, emissionMultiple)\n",
    "print(\"{0:.4f}\".format(balanceFromSimpleIssuance / 1e18))\n",
    "\n",
    "print(\"Issuance After\")\n",
    "print(\"{0:.4f}\".format(getIssuance(emissionMultiple, balanceFromSimpleIssuance, timeElapsedWad) / 1e18))"
   ]
  },
  {
   "cell_type": "code",
   "execution_count": null,
   "id": "2cdfe7b4",
   "metadata": {},
   "outputs": [],
   "source": [
    "# This is still not quite right..."
   ]
  }
 ],
 "metadata": {
  "kernelspec": {
   "display_name": "Python 3 (ipykernel)",
   "language": "python",
   "name": "python3"
  },
  "language_info": {
   "codemirror_mode": {
    "name": "ipython",
    "version": 3
   },
   "file_extension": ".py",
   "mimetype": "text/x-python",
   "name": "python",
   "nbconvert_exporter": "python",
   "pygments_lexer": "ipython3",
   "version": "3.9.8"
  }
 },
 "nbformat": 4,
 "nbformat_minor": 5
}
