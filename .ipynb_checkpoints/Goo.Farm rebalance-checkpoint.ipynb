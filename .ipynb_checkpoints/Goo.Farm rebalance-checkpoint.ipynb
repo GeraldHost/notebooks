{
 "cells": [
  {
   "cell_type": "code",
   "execution_count": 20,
   "id": "29fb57e8",
   "metadata": {},
   "outputs": [
    {
     "name": "stdout",
     "output_type": "stream",
     "text": [
      "  Mult    Goo Amount    Goo rate\n",
      "------  ------------  ----------\n",
      "     6       46.1538     16.641\n",
      "     7       53.8462     19.4145\n",
      "    13      100          36.0555 \n",
      "\n",
      "  Mult    Goo Amount    Goo rate\n",
      "------  ------------  ----------\n",
      "     6       31.5789     13.7649\n",
      "     6       31.5789     13.7649\n",
      "     7       36.8421     16.0591\n",
      "    19      100          43.589 \n",
      "\n"
     ]
    }
   ],
   "source": [
    "import math\n",
    "from tabulate import tabulate\n",
    "\n",
    "def distribute(_gobblers, _total_goo):\n",
    "    total_mult = sum([x[\"mult\"] for x in _gobblers])\n",
    "    \n",
    "    for gobbler in _gobblers:\n",
    "        goo_amount = _total_goo * (gobbler[\"mult\"] / total_mult)\n",
    "        gobbler[\"goo_amount\"] = goo_amount\n",
    "\n",
    "        goo_rate = math.sqrt(gobbler[\"mult\"] * goo_amount)\n",
    "        gobbler[\"goo_rate\"] = goo_rate\n",
    "    return _gobblers\n",
    "\n",
    "def debug(gobblers):\n",
    "    rows = [[x[\"mult\"], x[\"goo_amount\"], x[\"goo_rate\"]] for x in gobblers]\n",
    "    rows.append([\n",
    "        sum([x[\"mult\"] for x in gobblers]), \n",
    "        sum([x[\"goo_amount\"] for x in gobblers]), \n",
    "        sum([x[\"goo_rate\"] for x in gobblers])])\n",
    "    print(tabulate(rows, headers=[\"Mult\", \"Goo Amount\", \"Goo rate\"]), \"\\n\")\n",
    "\n",
    "debug(distribute([{\"mult\": 6},{\"mult\": 7}], 100))\n",
    "debug(distribute([{\"mult\": 6},{\"mult\": 6},{\"mult\": 7}], 100))"
   ]
  },
  {
   "cell_type": "code",
   "execution_count": 64,
   "id": "4ef2d398",
   "metadata": {},
   "outputs": [
    {
     "name": "stdout",
     "output_type": "stream",
     "text": [
      "DEBUG GROUPED\n",
      "-------------\n",
      "Group: 6\n",
      "Total GOO: 46.15384615384615\n",
      "Total mult: 6\n",
      "\n",
      "Group: 7\n",
      "Total GOO: 53.84615384615385\n",
      "Total mult: 7\n",
      "\n",
      "DEBUG GROUPED\n",
      "-------------\n",
      "Group: 6\n",
      "Total GOO: 46.15384615384615\n",
      "Total mult: 12\n",
      "\n",
      "Group: 7\n",
      "Total GOO: 53.84615384615385\n",
      "Total mult: 7\n",
      "\n",
      "Group 6: 6 12\n",
      "Group 7: 7 7\n"
     ]
    }
   ],
   "source": [
    "from itertools import groupby\n",
    "\n",
    "def group(gobblers):\n",
    "    groups = {}\n",
    "    for k, g in groupby(gobblers, lambda x: x[\"mult\"]):\n",
    "        row = list(g)\n",
    "        if k not in groups:\n",
    "            groups[k] = {\"items\": row}\n",
    "        else: \n",
    "            groups[k][\"items\"] += row\n",
    "    for k, v in groups.items():\n",
    "        groups[k][\"total_goo\"] = sum([x[\"goo_amount\"] for x in groups[k][\"items\"]])\n",
    "        groups[k][\"total_mult\"] = sum([x[\"mult\"] for x in groups[k][\"items\"]])\n",
    "    return groups\n",
    "\n",
    "def debug_grouped(grouped):\n",
    "    print(\"DEBUG GROUPED\\n-------------\")\n",
    "    for k, v in grouped.items():\n",
    "        print(\"Group:\", k)\n",
    "        print(\"Total GOO:\", v[\"total_goo\"])\n",
    "        print(\"Total mult:\", v[\"total_mult\"])\n",
    "        print(\"\")\n",
    "\n",
    "gobblers = distribute([{\"mult\": 6},{\"mult\": 7}], 100)\n",
    "debug_grouped((group_a := group(gobblers)))\n",
    "\n",
    "# add gobbler with mult 6\n",
    "gobblers.append({\"mult\": 6, \"goo_amount\": 0, \"goo_rate\": 0})\n",
    "debug_grouped((group_b := group(gobblers)))\n",
    "\n",
    "# calculate the redistribution\n",
    "print(\"Group 6:\", group_a[6][\"total_mult\"], group_b[6][\"total_mult\"])\n",
    "print(\"Group 7:\", group_a[7][\"total_mult\"], group_b[7][\"total_mult\"])\n",
    "\n",
    "delta_6 = group_b[6][\"total_mult\"] - group_a[6][\"total_mult\"]\n",
    "delta_7 = group_b[7][\"total_mult\"] - group_a[7][\"total_mult\"]\n",
    "\n",
    "# 100 * (6/13) = 46.15\n",
    "# 100 * (12/19) = 63.15 "
   ]
  },
  {
   "cell_type": "code",
   "execution_count": null,
   "id": "431d1be8",
   "metadata": {},
   "outputs": [],
   "source": []
  },
  {
   "cell_type": "code",
   "execution_count": null,
   "id": "0c041d0c",
   "metadata": {},
   "outputs": [],
   "source": []
  }
 ],
 "metadata": {
  "kernelspec": {
   "display_name": "Python 3 (ipykernel)",
   "language": "python",
   "name": "python3"
  },
  "language_info": {
   "codemirror_mode": {
    "name": "ipython",
    "version": 3
   },
   "file_extension": ".py",
   "mimetype": "text/x-python",
   "name": "python",
   "nbconvert_exporter": "python",
   "pygments_lexer": "ipython3",
   "version": "3.9.8"
  }
 },
 "nbformat": 4,
 "nbformat_minor": 5
}
